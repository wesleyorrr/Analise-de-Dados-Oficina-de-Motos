{
  "nbformat": 4,
  "nbformat_minor": 0,
  "metadata": {
    "colab": {
      "provenance": [],
      "authorship_tag": "ABX9TyNDVvsFdv4k/jmmQ9HniQtP",
      "include_colab_link": true
    },
    "kernelspec": {
      "name": "python3",
      "display_name": "Python 3"
    },
    "language_info": {
      "name": "python"
    }
  },
  "cells": [
    {
      "cell_type": "markdown",
      "metadata": {
        "id": "view-in-github",
        "colab_type": "text"
      },
      "source": [
        "<a href=\"https://colab.research.google.com/github/wesleyorrr/Analise-de-Dados-Oficina-de-Motos/blob/main/An%C3%A1lise_de_Dados_%E2%80%94_Oficina_de_Motos.ipynb\" target=\"_parent\"><img src=\"https://colab.research.google.com/assets/colab-badge.svg\" alt=\"Open In Colab\"/></a>"
      ]
    },
    {
      "cell_type": "code",
      "execution_count": null,
      "metadata": {
        "id": "dP9a96Wxe1W_"
      },
      "outputs": [],
      "source": []
    },
    {
      "cell_type": "markdown",
      "source": [
        "# Análise de Dados — Oficina de Motos"
      ],
      "metadata": {
        "id": "wzQXqpLIe31M"
      }
    },
    {
      "cell_type": "code",
      "source": [
        "import pandas as pd\n",
        "\n",
        "# Dados simulados\n",
        "dados = pd.DataFrame({\n",
        "    \"Data\": pd.date_range(\"2024-01-01\", periods=20, freq=\"15D\"),\n",
        "    \"Serviço\": [\n",
        "        \"Troca de óleo\", \"Revisão geral\", \"Troca de pneu\", \"Troca de corrente\", \"Alinhamento\",\n",
        "        \"Troca de óleo\", \"Revisão geral\", \"Troca de pneu\", \"Troca de corrente\", \"Alinhamento\",\n",
        "        \"Troca de óleo\", \"Troca de óleo\", \"Revisão geral\", \"Troca de corrente\", \"Alinhamento\",\n",
        "        \"Troca de pneu\", \"Troca de pneu\", \"Revisão geral\", \"Troca de óleo\", \"Alinhamento\"\n",
        "    ],\n",
        "    \"Valor (R$)\": [\n",
        "        80, 250, 120, 150, 100,\n",
        "        80, 250, 120, 150, 100,\n",
        "        80, 80, 250, 150, 100,\n",
        "        120, 120, 250, 80, 100\n",
        "    ]\n",
        "})\n"
      ],
      "metadata": {
        "id": "S5654PVle5uN"
      },
      "execution_count": 1,
      "outputs": []
    },
    {
      "cell_type": "code",
      "source": [
        "# Serviços mais realizados\n",
        "servicos_mais_realizados = dados[\"Serviço\"].value_counts()\n",
        "\n",
        "# Faturamento por tipo de serviço\n",
        "faturamento = dados.groupby(\"Serviço\")[\"Valor (R$)\"].sum().sort_values(ascending=False)\n",
        "\n",
        "# Clientes por mês\n",
        "dados[\"Mês\"] = dados[\"Data\"].dt.strftime(\"%b/%Y\")\n",
        "clientes_por_mes = dados[\"Mês\"].value_counts().sort_index()\n"
      ],
      "metadata": {
        "id": "wBsLN8J5fyXw"
      },
      "execution_count": 2,
      "outputs": []
    }
  ]
}